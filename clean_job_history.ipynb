{
 "cells": [
  {
   "cell_type": "markdown",
   "id": "5ef0b9f8",
   "metadata": {},
   "source": [
    "Author: Jianji Chen\n",
    "\n",
    "email: jianjichen001@gmail.com\n",
    "\n",
    "Please feel free to reach out with any questions or comments. Thank you!"
   ]
  },
  {
   "cell_type": "markdown",
   "id": "fb330e52",
   "metadata": {},
   "source": [
    "Note: If you would like to replicate the results with the following codes, please make sure that you get access to the SHARE datasets.\n",
    "\n",
    "Tthe dataset used here is publicly accessible via application on the official website of the SHARE: https://share-eric.eu/data/data-access\n",
    "\n",
    "The dataset used here is:\n",
    "\n",
    "SHARE-ERIC (2024). SHARE Job Episodes Panel. Release version: 9.0.0. SHARE-ERIC. Data set. DOI: 10.6103/SHARE.jep.900"
   ]
  },
  {
   "cell_type": "code",
   "execution_count": null,
   "id": "7c205811",
   "metadata": {},
   "outputs": [],
   "source": [
    "import pandas as pd\n",
    "import numpy as np"
   ]
  },
  {
   "cell_type": "code",
   "execution_count": 2,
   "id": "20e1ab41",
   "metadata": {},
   "outputs": [],
   "source": [
    "job_his = pd.read_stata('sharewX_rel9-0-0_gv_job_episodes_panel_stata/sharewX_rel9-0-0_gv_job_episodes_panel.dta')"
   ]
  },
  {
   "cell_type": "code",
   "execution_count": 3,
   "id": "83096385",
   "metadata": {},
   "outputs": [],
   "source": [
    "job_history_vars = [\"mergeid\", \"jep_w\", \"gender\", \"yrbirth\", \"age\", \"year\", \"country\",\n",
    "                    \"situation\", \"working\", \"in_education\", \"retired\", \"industry\", \"isco\",\n",
    "                    \"job_title\", \"working_hours\", \"nchildren\", \"withpartner\", \"married\",\n",
    "                    \"country_res_\"]"
   ]
  },
  {
   "cell_type": "code",
   "execution_count": 4,
   "id": "9b22e255",
   "metadata": {},
   "outputs": [],
   "source": [
    "job_history = job_his[job_history_vars]"
   ]
  },
  {
   "cell_type": "code",
   "execution_count": 5,
   "id": "cceeeb2a",
   "metadata": {},
   "outputs": [],
   "source": [
    "job_history = job_history.rename(\n",
    "    columns = {\"jep_w\": \"jobinfo_wave\",\n",
    "               \"yrbirth\": \"birth_year\",\n",
    "               \"nchildren\": \"number_children\",\n",
    "               \"withpartner\": \"live_with_partner\",\n",
    "               \"country_res_\": \"country_residence\"\n",
    "    })"
   ]
  },
  {
   "cell_type": "code",
   "execution_count": 6,
   "id": "c6a06feb",
   "metadata": {},
   "outputs": [],
   "source": [
    "job_history[\"job_situation_general\"] = np.select(\n",
    "    condlist = [\n",
    "        # 1. Retired\n",
    "        np.logical_or(\n",
    "            job_history[\"retired\"] == 1,\n",
    "            job_history[\"situation\"] == \"Retired from work\"\n",
    "        ),\n",
    "\n",
    "        # 2. Working\n",
    "        np.logical_or(\n",
    "            job_history[\"working\"] == 1,\n",
    "            job_history[\"situation\"] == \"Employee or self-employed\"\n",
    "        ),\n",
    "\n",
    "        # 3. In education\n",
    "        np.logical_or(\n",
    "            job_history[\"in_education\"] == 1,\n",
    "            job_history[\"situation\"] == \"In education\"\n",
    "        ),\n",
    "\n",
    "        # 4. Military services\n",
    "        job_history[\"situation\"] == \"Military services, war prisoner or equivalent\",\n",
    "\n",
    "        # 5. Not working\n",
    "        job_history[\"working\"] == 0\n",
    "    ],\n",
    "\n",
    "    choicelist = [\n",
    "        \"Retired\",\n",
    "        \"Working\",\n",
    "        \"In education\",\n",
    "        \"Military services\",\n",
    "        \"Not working\"\n",
    "    ],\n",
    "    \n",
    "    default = \"\"\n",
    ")\n",
    "\n",
    "job_history[\"job_situation_general\"] = job_history[\"job_situation_general\"].replace('', np.nan, regex = True)"
   ]
  },
  {
   "cell_type": "code",
   "execution_count": 7,
   "id": "82fbdee1",
   "metadata": {},
   "outputs": [
    {
     "data": {
      "text/plain": [
       "job_situation_general\n",
       "Working              2971683\n",
       "Not working          1246000\n",
       "In education         1147739\n",
       "Retired               784505\n",
       "Military services      14765\n",
       "Name: count, dtype: int64"
      ]
     },
     "execution_count": 7,
     "metadata": {},
     "output_type": "execute_result"
    }
   ],
   "source": [
    "job_history[\"job_situation_general\"].value_counts(dropna = False)"
   ]
  },
  {
   "cell_type": "code",
   "execution_count": 8,
   "id": "c0229a6c",
   "metadata": {},
   "outputs": [],
   "source": [
    "job_history[\"job_situation\"] = np.select(\n",
    "    condlist = [\n",
    "        # 1. Retired\n",
    "        np.logical_or(\n",
    "            job_history[\"retired\"] == 1,\n",
    "            job_history[\"situation\"] == \"Retired from work\"\n",
    "        ),\n",
    "\n",
    "        # 2. Part-time / unstable work\n",
    "        np.logical_or(\n",
    "            np.logical_and(\n",
    "                np.logical_or(\n",
    "                    job_history[\"working\"] == 1,\n",
    "                    job_history[\"situation\"] == \"Employee or self-employed\"\n",
    "                ),\n",
    "                job_history[\"working_hours\"].isin([\n",
    "                    \"Always part-time\",\n",
    "                    \"Changed once from full-time to part-time\",\n",
    "                    \"Changed multiple times\",\n",
    "                    \"Changed once from part-time to full-time\"\n",
    "                ])\n",
    "            ),\n",
    "            job_history[\"situation\"] == \"Short term job (less than 6 months)\"\n",
    "        ),\n",
    "\n",
    "        # 3. Stable full-time work\n",
    "        np.logical_and(\n",
    "            np.logical_or(\n",
    "                job_history[\"working\"] == 1,\n",
    "                job_history[\"situation\"] == \"Employee or self-employed\"\n",
    "            ),\n",
    "            job_history[\"working_hours\"] == \"Always full-time\"\n",
    "        ),\n",
    "\n",
    "        # 4. In education\n",
    "        np.logical_or(\n",
    "            job_history[\"in_education\"] == 1,\n",
    "            job_history[\"situation\"] == \"In education\"\n",
    "        ),\n",
    "\n",
    "        # 5. Military services\n",
    "        job_history[\"situation\"] == \"Military services, war prisoner or equivalent\",\n",
    "\n",
    "        # 6. Not working\n",
    "        job_history[\"working\"] == 0\n",
    "    ],\n",
    "\n",
    "    choicelist = [\n",
    "        \"Retired\",\n",
    "        \"Part-time/unstable work\",\n",
    "        \"Stable full-time work\",\n",
    "        \"In education\",\n",
    "        \"Military services\",\n",
    "        \"Not working\"\n",
    "    ],\n",
    "\n",
    "    default = \"\"\n",
    ")\n",
    "\n",
    "job_history[\"job_situation\"] = job_history[\"job_situation\"].replace('', np.nan, regex = True)"
   ]
  },
  {
   "cell_type": "code",
   "execution_count": 9,
   "id": "8e73ed43",
   "metadata": {},
   "outputs": [
    {
     "data": {
      "text/plain": [
       "job_situation\n",
       "Stable full-time work      2663054\n",
       "Not working                1254447\n",
       "In education               1148037\n",
       "Retired                     784505\n",
       "Part-time/unstable work     244201\n",
       "NaN                          55683\n",
       "Military services            14765\n",
       "Name: count, dtype: int64"
      ]
     },
     "execution_count": 9,
     "metadata": {},
     "output_type": "execute_result"
    }
   ],
   "source": [
    "job_history[\"job_situation\"].value_counts(dropna = False)"
   ]
  },
  {
   "cell_type": "code",
   "execution_count": 10,
   "id": "101278ab",
   "metadata": {},
   "outputs": [
    {
     "name": "stdout",
     "output_type": "stream",
     "text": [
      "['Austria', 'Bulgaria', 'Belgium', 'Cyprus', 'Czech Republic', 'Switzerland', 'Germany', 'Denmark', 'Estonia', 'Spain', 'France', 'Finland', 'Greece', 'Croatia', 'Hungary', 'Ireland', 'Italy', 'Israel', 'Lithuania', 'Luxembourg', 'Latvia', 'Malta', 'Netherlands', 'Poland', 'Portugal', 'Romania', 'Sweden', 'Slovenia', 'Slovakia']\n"
     ]
    }
   ],
   "source": [
    "print(list(job_history.country.unique()))\n",
    "## There are no missing values here"
   ]
  },
  {
   "cell_type": "code",
   "execution_count": 11,
   "id": "0dd0f6d7",
   "metadata": {},
   "outputs": [
    {
     "data": {
      "text/plain": [
       "isco\n",
       "NaN              3301575\n",
       "Not yet coded     393929\n",
       "4110.0             97331\n",
       "5223.0             64387\n",
       "2341.0             44645\n",
       "                  ...   \n",
       "3130.0                 1\n",
       "8130.0                 1\n",
       "3520.0                 1\n",
       "8412.0                 1\n",
       "9133.0                 1\n",
       "Name: count, Length: 653, dtype: int64"
      ]
     },
     "execution_count": 11,
     "metadata": {},
     "output_type": "execute_result"
    }
   ],
   "source": [
    "job_history[\"isco\"].value_counts(dropna = False)"
   ]
  },
  {
   "cell_type": "code",
   "execution_count": 12,
   "id": "df21a145",
   "metadata": {},
   "outputs": [],
   "source": [
    "job_history[\"occupation_level\"] = np.select(\n",
    "    condlist = [\n",
    "        job_history[\"job_situation_general\"] == \"Retired\",\n",
    "        job_history[\"job_situation_general\"] == \"In education\",\n",
    "        np.logical_or(job_history[\"job_situation_general\"] == \"Military services\",\n",
    "                      job_history[\"isco\"].astype(str).str.startswith(\"0\")),\n",
    "        job_history[\"job_situation_general\"] == \"Not working\",\n",
    "        job_history[\"isco\"].astype(str).str.startswith((\"1\")),\n",
    "        job_history[\"isco\"].astype(str).str.startswith((\"2\")),\n",
    "        job_history[\"isco\"].astype(str).str.startswith((\"3\", \"4\", \"5\", \"6\", \"7\", \"8\", \"9\"))\n",
    "    ],\n",
    "    choicelist = [\"Retired\", \"In education\", \"Military services\", \"Not working\",\n",
    "                  \"Manager\", \"Professional\", \"Other levels\"],\n",
    "    default = \"\"\n",
    ")\n",
    "\n",
    "job_history[\"occupation_level\"] = job_history[\"occupation_level\"].replace('', np.nan, regex = True)"
   ]
  },
  {
   "cell_type": "code",
   "execution_count": 13,
   "id": "d011bd07",
   "metadata": {},
   "outputs": [
    {
     "data": {
      "text/plain": [
       "occupation_level\n",
       "Other levels         1844969\n",
       "Not working          1246000\n",
       "In education         1147739\n",
       "Retired               784505\n",
       "NaN                   591380\n",
       "Professional          412309\n",
       "Manager               123025\n",
       "Military services      14765\n",
       "Name: count, dtype: int64"
      ]
     },
     "execution_count": 13,
     "metadata": {},
     "output_type": "execute_result"
    }
   ],
   "source": [
    "job_history[\"occupation_level\"].value_counts(dropna = False)"
   ]
  },
  {
   "cell_type": "code",
   "execution_count": 13,
   "id": "3fb65732",
   "metadata": {},
   "outputs": [],
   "source": [
    "job_history[\"occupation_level_merge\"] = job_history[\"occupation_level\"].case_when(\n",
    "    [\n",
    "        ((job_history[\"occupation_level\"] == \"Manager\") | (job_history[\"occupation_level\"] == \"Professional\"), \"Manager/professional\")\n",
    "    ]\n",
    ")"
   ]
  },
  {
   "cell_type": "code",
   "execution_count": 14,
   "id": "cd60d1c4",
   "metadata": {},
   "outputs": [],
   "source": [
    "job_history = job_history[[\"mergeid\", \"jobinfo_wave\", \"year\", \"age\",\n",
    "                           \"gender\", \"birth_year\", \"country_residence\",\n",
    "                           \"job_situation_general\", \"job_situation\",\n",
    "                           \"occupation_level\", \"occupation_level_merge\"]]"
   ]
  },
  {
   "cell_type": "code",
   "execution_count": 15,
   "id": "b50bbefd",
   "metadata": {},
   "outputs": [],
   "source": [
    "job_history_f21t60 = job_history.loc[(job_history[\"age\"] > 20) & (job_history[\"age\"] < 61), :]"
   ]
  },
  {
   "cell_type": "code",
   "execution_count": 16,
   "id": "922115ce",
   "metadata": {},
   "outputs": [
    {
     "data": {
      "text/plain": [
       "occupation_level\n",
       "Other levels         1622659\n",
       "Not working           644751\n",
       "NaN                   519070\n",
       "Professional          388287\n",
       "Retired               201009\n",
       "Manager               114668\n",
       "In education           57432\n",
       "Military services       8498\n",
       "Name: count, dtype: int64"
      ]
     },
     "execution_count": 16,
     "metadata": {},
     "output_type": "execute_result"
    }
   ],
   "source": [
    "job_history_f21t60.occupation_level.value_counts(dropna = False)"
   ]
  },
  {
   "cell_type": "code",
   "execution_count": 17,
   "id": "310146ab",
   "metadata": {},
   "outputs": [
    {
     "data": {
      "text/plain": [
       "age\n",
       "40     68217\n",
       "39      3350\n",
       "38      3348\n",
       "37      3289\n",
       "36      2941\n",
       "35      2711\n",
       "34      2192\n",
       "33      2072\n",
       "32      1062\n",
       "31       839\n",
       "30       412\n",
       "29       314\n",
       "28       228\n",
       "27       161\n",
       "26       130\n",
       "25        99\n",
       "24        68\n",
       "23        63\n",
       "22        39\n",
       "21        32\n",
       "20        22\n",
       "19        21\n",
       "18        14\n",
       "17        13\n",
       "15        13\n",
       "16         6\n",
       "14         5\n",
       "13         4\n",
       "10         3\n",
       "11         2\n",
       "2          1\n",
       "6          1\n",
       "5          1\n",
       "7          1\n",
       "9          1\n",
       "Name: count, dtype: int64"
      ]
     },
     "execution_count": 17,
     "metadata": {},
     "output_type": "execute_result"
    }
   ],
   "source": [
    "job_history_f21t60[[\"mergeid\", \"age\"]].groupby(\"mergeid\").count().value_counts()"
   ]
  },
  {
   "cell_type": "code",
   "execution_count": 18,
   "id": "f33ee4d6",
   "metadata": {},
   "outputs": [],
   "source": [
    "## save the data\n",
    "job_history_f21t60.to_csv('data_out/job_history_f21t60.csv', index = False)  \n",
    "job_history.to_csv('data_out/job_history.csv', index = False)"
   ]
  }
 ],
 "metadata": {
  "kernelspec": {
   "display_name": "Python 3",
   "language": "python",
   "name": "python3"
  },
  "language_info": {
   "codemirror_mode": {
    "name": "ipython",
    "version": 3
   },
   "file_extension": ".py",
   "mimetype": "text/x-python",
   "name": "python",
   "nbconvert_exporter": "python",
   "pygments_lexer": "ipython3",
   "version": "3.13.0"
  }
 },
 "nbformat": 4,
 "nbformat_minor": 5
}
