{
 "cells": [
  {
   "cell_type": "markdown",
   "id": "b78c5c1c",
   "metadata": {},
   "source": [
    "Author: Jianji Chen\n",
    "\n",
    "email: jianjichen001@gmail.com\n",
    "\n",
    "Please feel free to reach out with any questions or comments. Thank you!"
   ]
  },
  {
   "cell_type": "markdown",
   "id": "347fe421",
   "metadata": {},
   "source": [
    "Note: If you would like to replicate the results of the following codes, please make sure that you have alreay followed the previous process as recorded in the Jupyter Notebook files \"clean_demographics\" and \"clean_job_history\"."
   ]
  },
  {
   "cell_type": "code",
   "execution_count": null,
   "id": "bd7bdcf9",
   "metadata": {},
   "outputs": [],
   "source": [
    "import pandas as pd\n",
    "import numpy as np"
   ]
  },
  {
   "cell_type": "code",
   "execution_count": 33,
   "id": "3596ddd1",
   "metadata": {},
   "outputs": [],
   "source": [
    "demographics = pd.read_csv('data_out/demographics.csv')"
   ]
  },
  {
   "cell_type": "code",
   "execution_count": 39,
   "id": "106588ed",
   "metadata": {},
   "outputs": [],
   "source": [
    "job_history = pd.read_csv('data_out/job_history.csv')"
   ]
  },
  {
   "cell_type": "code",
   "execution_count": 125,
   "id": "74bfde28",
   "metadata": {},
   "outputs": [],
   "source": [
    "merge_long = pd.merge(job_history, demographics.drop([\"birth_year\", \"gender\"], axis = 1), on = \"mergeid\", how = \"left\")\n",
    "# job_history does not contain missing values of \"birth_year\" and \"gender\",\n",
    "# and the final sample will be based on job_history for job information (2 waves of information compared to 8 waves of demographics)"
   ]
  },
  {
   "cell_type": "code",
   "execution_count": 126,
   "id": "575072e8",
   "metadata": {},
   "outputs": [],
   "source": [
    "merge_long.migrant_year = merge_long.migrant_year.case_when(\n",
    "    [\n",
    "        (merge_long.migrant_year == \"Don't know\", np.nan),\n",
    "        (merge_long.migrant_year == \"Refusal\", np.nan)\n",
    "    ]\n",
    ")\n",
    "\n",
    "merge_long[\"migrant_age\"] = merge_long[\"migrant_year\"].astype(float) - merge_long[\"birth_year\"]"
   ]
  },
  {
   "cell_type": "code",
   "execution_count": 127,
   "id": "146cf5c6",
   "metadata": {},
   "outputs": [],
   "source": [
    "merge_long.citizenship_year = merge_long.citizenship_year.case_when(\n",
    "    [\n",
    "        (merge_long.citizenship_year == \"Don't know\", np.nan),\n",
    "        (merge_long.citizenship_year == \"Refusal\", np.nan)\n",
    "    ]\n",
    ")\n",
    "\n",
    "merge_long[\"citizenship_age\"] = merge_long[\"citizenship_year\"].astype(float) - merge_long[\"birth_year\"]"
   ]
  },
  {
   "cell_type": "code",
   "execution_count": 128,
   "id": "af8b1a8e",
   "metadata": {},
   "outputs": [],
   "source": [
    "merge_long[\"education_tertiary\"] = merge_long[\"education_level\"].case_when(\n",
    "    [\n",
    "        (merge_long[\"education_level\"] != \"Tertiary education\", \"Lower education\")\n",
    "    ]\n",
    ")"
   ]
  },
  {
   "cell_type": "code",
   "execution_count": 140,
   "id": "87e45dbd",
   "metadata": {},
   "outputs": [],
   "source": [
    "# for each respondent with all person-age observations, check if they had ever been in occupational positions in \"manager\" levels according isco 08 categories\n",
    "# for those ever been in such positions, find the age when first in such positions\n",
    "\n",
    "# Define a function to count occurrences of the target value\n",
    "def count_target(series, target_val):\n",
    "    return True if (series == target_val).sum() > 0 else False\n",
    "\n",
    "# Group by 'mergeid' and apply aggregation\n",
    "history_manager = job_history.groupby('mergeid').agg(\n",
    "    # Count rows where \"occupation_level\" equals \"Manager\"\n",
    "    manager_ever = (\"occupation_level\", lambda x: count_target(x, \"Manager\")),\n",
    "    # Get the first row where \"occupation_level\" equals \"Manager\" (using iloc[0] for safety)\n",
    "    # first_row_with_target=(\"occupation_level\", lambda x: x[x == \"Manager\"].iloc[0] if (x == \"Manager\").any() else None),\n",
    "    # Get the age from the first row that matches the condition\n",
    "    manager_1stage = (\"age\", lambda x: x[job_history.loc[x.index, \"occupation_level\"] == \"Manager\"].iloc[0] if (job_history.loc[x.index, \"occupation_level\"] == \"Manager\").any() else None)\n",
    ")\n",
    "\n",
    "for i in range(1, 60):\n",
    "    history_manager[f'manager_ever_age{i}'] = (i >= history_manager[\"manager_1stage\"])\n",
    "\n",
    "# print(history_manager)"
   ]
  },
  {
   "cell_type": "code",
   "execution_count": null,
   "id": "cd918d54",
   "metadata": {},
   "outputs": [],
   "source": [
    "# convert the history_manager to long formart dataframe\n",
    "history_manager_long = pd.melt(history_manager.reset_index(),\n",
    "                                            id_vars = 'mergeid',\n",
    "                                            value_vars = [c for c in list(history_manager) if c.startswith(\"manager_ever_age\")],\n",
    "                                            var_name = 'age',\n",
    "                                            value_name = 'manager_ever_cumulative')\n",
    "\n",
    "history_manager_long[\"age\"] = history_manager_long[\"age\"].str.replace(\"manager_ever_age\", \"\").astype(int)\n",
    "history_manager_long[\"manager_ever_cumulative\"] = history_manager_long[\"manager_ever_cumulative\"].astype(int)"
   ]
  },
  {
   "cell_type": "code",
   "execution_count": 61,
   "id": "bea25273",
   "metadata": {},
   "outputs": [],
   "source": [
    "# for each respondent with all person-age observations, check if they had ever been in occupational positions in \"manager\" or \"professional\" levels according isco 08 categories\n",
    "# for those ever been in such positions, find the age when first in such positions\n",
    "\n",
    "# Define a function to count occurrences of the target value\n",
    "def count_target(series, target_val):\n",
    "    return True if (series == target_val).sum() > 0 else False\n",
    "\n",
    "# Group by 'mergeid' and apply aggregation\n",
    "history_manager_professional = job_history.groupby('mergeid').agg(\n",
    "    # Count rows where \"occupation_level_merge\" equals \"Manager/professional\"\n",
    "    manager_professional_ever = (\"occupation_level_merge\", lambda x: count_target(x, \"Manager/professional\")),\n",
    "    # Get the first row where \"occupation_level_merge\" equals \"Manager/professional\" (using iloc[0] for safety)\n",
    "    # first_row_with_target=(\"occupation_level_merge\", lambda x: x[x == \"Manager/professional\"].iloc[0] if (x == \"Manager/professional\").any() else None),\n",
    "    # Get the age from the first row that matches the condition\n",
    "    manager_professional_1stage = (\"age\", lambda x: x[job_history.loc[x.index, \"occupation_level_merge\"] == \"Manager/professional\"].iloc[0] if (job_history.loc[x.index, \"occupation_level_merge\"] == \"Manager/professional\").any() else None)\n",
    ")\n",
    "\n",
    "for i in range(1, 61):\n",
    "    history_manager_professional[f'manager_professional_ever_age{i}'] = (i >= history_manager_professional[\"manager_professional_1stage\"])\n",
    "\n",
    "# print(history_manager_professional)"
   ]
  },
  {
   "cell_type": "code",
   "execution_count": null,
   "id": "c4098543",
   "metadata": {},
   "outputs": [],
   "source": [
    "# convert the history_manager_professional to long formart dataframe\n",
    "history_manager_professional_long = pd.melt(history_manager_professional.reset_index(),\n",
    "                                            id_vars = 'mergeid',\n",
    "                                            value_vars = [c for c in list(history_manager_professional) if c.startswith(\"manager_professional_ever_age\")],\n",
    "                                            var_name = 'age',\n",
    "                                            value_name = 'manager_professional_ever_cumulative')\n",
    "\n",
    "history_manager_professional_long[\"age\"] = history_manager_professional_long[\"age\"].str.replace(\"manager_professional_ever_age\", \"\").astype(int)\n",
    "history_manager_professional_long[\"manager_professional_ever_cumulative\"] = history_manager_professional_long[\"manager_professional_ever_cumulative\"].astype(int)"
   ]
  },
  {
   "cell_type": "code",
   "execution_count": null,
   "id": "aa69416c",
   "metadata": {},
   "outputs": [],
   "source": [
    "# consider to exclude some countires of interview\n",
    "\n",
    "\n",
    "# exclude Israel and 11 Eastern European countries of interview due to complicated geopolitical and immigration histories during the past decades\n",
    "# eg., Soviet Union and Former Yugoslavia\n",
    "# These countries are: Bulgaria, Croatia, Czech Republic, Estonia, Hungary, Lithuania, Latvia, Poland, Romania, Slovenia, Slovakia\n",
    "countries_filter1 = [\n",
    "    \"Austria\", \"Belgium\", \"Cyprus\", \"Denmark\",\n",
    "    \"Finland\", \"France\", \"Germany\", \"Greece\",\n",
    "    \"Ireland\", \"Italy\", \"Luxembourg\", \"Malta\", \n",
    "    \"Netherlands\", \"Portugal\", \"Spain\", \"Sweden\", \"Switzerland\"\n",
    "]\n",
    "\n",
    "\n",
    "# further exclude 5 countries of interview that have too few non-native respondents\n",
    "# conditions: less than 20 non-European immigrants or less than 20 European immigrants\n",
    "# these countries are: Cyprus, Finland, Ireland (too few non-European immigrants), Malta, Portugal, \n",
    "\n",
    "countries_filter2 = [\n",
    "    \"Austria\", \"Belgium\", \"Denmark\", \"France\",\n",
    "    \"Germany\", \"Greece\", \"Italy\", \"Luxembourg\",\n",
    "    \"Netherlands\", \"Spain\", \"Sweden\", \"Switzerland\"\n",
    "]\n",
    "\n",
    "pd.crosstab(merge_long.loc[merge_long[\"age\"] == 40, \"country\"],\n",
    "            merge_long.loc[merge_long[\"age\"] == 40, \"born_same_country\"],\n",
    "            dropna=True, normalize=False, margins=True)"
   ]
  },
  {
   "cell_type": "code",
   "execution_count": 147,
   "id": "b29c0338",
   "metadata": {},
   "outputs": [],
   "source": [
    "# merge a long dataframe that contains demographic information and job situation by age\n",
    "\n",
    "data_long = pd.merge(merge_long[[\"mergeid\", \"age\", \"country\", \"gender\", \"education_tertiary\",\n",
    "                                 \"native_or_immigrant\", \"born_same_country\", \"migrant_age\",\n",
    "                                 \"own_citizenship\", \"citizenship_age\", \"occupation_level\"]],\n",
    "                                 history_manager_long,\n",
    "                                 on = [\"mergeid\", \"age\"], how = \"inner\")\n",
    "\n",
    "data_long = pd.merge(data_long,\n",
    "                     history_manager_professional_long,\n",
    "                     on = [\"mergeid\", \"age\"], how = \"inner\")\n",
    "\n",
    "\n",
    "data_long[\"age\"] = data_long[\"age\"].astype(int)\n",
    "\n",
    "# subset this long dataframe that excludes some coutries of interview and people who immigranted after age 45\n",
    "# also remove the observations where age is younger than 21 or older than 60\n",
    "data_long_subset = data_long[data_long[\"country\"].isin(countries_filter2)]\n",
    "data_long_subset = data_long_subset[(data_long_subset[\"migrant_age\"] < 46) | (data_long_subset[\"migrant_age\"].isna())]\n",
    "data_long_subset = data_long_subset[data_long_subset[\"age\"] > 20] # the age limit was alredy set to 60 earlier"
   ]
  },
  {
   "cell_type": "code",
   "execution_count": 133,
   "id": "b040a730",
   "metadata": {},
   "outputs": [],
   "source": [
    "# merge a wide dataframe that contains demographic information and whether a respondent had ever been\n",
    "# in manager or professional position and the age when first in such a position\n",
    "\n",
    "data_wide = pd.merge(merge_long[[\"mergeid\", \"country\", \"gender\", \"education_tertiary\",\n",
    "                                 \"native_or_immigrant\", \"born_same_country\", \"migrant_age\",\n",
    "                                 \"own_citizenship\", \"citizenship_age\"]].groupby(\"mergeid\").first(),\n",
    "                     history_manager[[\"manager_ever\", \"manager_1stage\"]],\n",
    "                     on = \"mergeid\", how = \"right\")\n",
    "\n",
    "data_wide = pd.merge(data_wide,\n",
    "                     history_manager_professional[[\"manager_professional_ever\", \"manager_professional_1stage\"]],\n",
    "                     on = \"mergeid\", how = \"left\")\n",
    "\n",
    "data_wide = data_wide.reset_index()\n",
    "\n",
    "\n",
    "# subset this wide dataframe that excludes some coutries of interview and people who immigranted after age 45\n",
    "data_wide_subset = data_wide[data_wide[\"country\"].isin(countries_filter2)]\n",
    "data_wide_subset = data_wide_subset[(data_wide_subset[\"migrant_age\"] < 46) | (data_wide_subset[\"migrant_age\"].isna())]"
   ]
  },
  {
   "cell_type": "code",
   "execution_count": 148,
   "id": "943f3122",
   "metadata": {},
   "outputs": [],
   "source": [
    "## save the data\n",
    "data_wide.to_csv('data_out/data_wide.csv', index = False)\n",
    "data_wide_subset.to_csv('data_out/data_wide_subset.csv', index = False)\n",
    "data_long.to_csv('data_out/data_long.csv', index = False)\n",
    "data_long_subset.to_csv('data_out/data_long_subset.csv', index = False)"
   ]
  }
 ],
 "metadata": {
  "kernelspec": {
   "display_name": "Python 3",
   "language": "python",
   "name": "python3"
  },
  "language_info": {
   "codemirror_mode": {
    "name": "ipython",
    "version": 3
   },
   "file_extension": ".py",
   "mimetype": "text/x-python",
   "name": "python",
   "nbconvert_exporter": "python",
   "pygments_lexer": "ipython3",
   "version": "3.13.0"
  }
 },
 "nbformat": 4,
 "nbformat_minor": 5
}
